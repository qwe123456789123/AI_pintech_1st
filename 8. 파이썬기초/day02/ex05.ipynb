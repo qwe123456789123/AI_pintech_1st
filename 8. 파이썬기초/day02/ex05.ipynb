{
 "cells": [
  {
   "cell_type": "code",
   "execution_count": 11,
   "id": "9996b47e-b61a-403d-9758-e2b7db99c911",
   "metadata": {},
   "outputs": [],
   "source": [
    "a =\"\"\n",
    "b =\"1\"\n",
    "c = \"  \""
   ]
  },
  {
   "cell_type": "code",
   "execution_count": 12,
   "id": "d9e5a92b-06eb-4884-9673-121fbe154288",
   "metadata": {},
   "outputs": [
    {
     "name": "stdout",
     "output_type": "stream",
     "text": [
      "참\n"
     ]
    }
   ],
   "source": [
    "if [c] : \n",
    "    print(\"참\")\n",
    "else :\n",
    "    print(\"거짓\")"
   ]
  },
  {
   "cell_type": "code",
   "execution_count": 5,
   "id": "69cdcd87-9eb9-4181-9b80-54ea6e502aca",
   "metadata": {},
   "outputs": [
    {
     "name": "stdout",
     "output_type": "stream",
     "text": [
      "False\n",
      "True\n",
      "False\n",
      "False\n",
      "False\n"
     ]
    }
   ],
   "source": [
    "print(bool(\"\")) # False\n",
    "print(bool(\"1\")) # True\n",
    "print(bool([])) # False\n",
    "print(bool(())) # False\n",
    "print(bool(None)) # False"
   ]
  }
 ],
 "metadata": {
  "kernelspec": {
   "display_name": "Python 3 (ipykernel)",
   "language": "python",
   "name": "python3"
  },
  "language_info": {
   "codemirror_mode": {
    "name": "ipython",
    "version": 3
   },
   "file_extension": ".py",
   "mimetype": "text/x-python",
   "name": "python",
   "nbconvert_exporter": "python",
   "pygments_lexer": "ipython3",
   "version": "3.12.7"
  }
 },
 "nbformat": 4,
 "nbformat_minor": 5
}
