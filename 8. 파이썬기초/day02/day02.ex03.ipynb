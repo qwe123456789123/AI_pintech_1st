{
 "cells": [
  {
   "cell_type": "code",
   "execution_count": 1,
   "id": "1754dc1b-eb40-4a8d-b299-35e54619d1e2",
   "metadata": {},
   "outputs": [],
   "source": [
    "person = {'name':'휴먼','age':13}"
   ]
  },
  {
   "cell_type": "code",
   "execution_count": 2,
   "id": "4ca60e94-156a-4086-8179-9fa1236c3b7f",
   "metadata": {},
   "outputs": [
    {
     "data": {
      "text/plain": [
       "{'name': '휴먼', 'age': 13}"
      ]
     },
     "execution_count": 2,
     "metadata": {},
     "output_type": "execute_result"
    }
   ],
   "source": [
    "# person['name'] = '오크'\n",
    "# person['address'] = '주소'\n",
    "# del person['address']\n",
    "person"
   ]
  },
  {
   "cell_type": "code",
   "execution_count": 3,
   "id": "f02370db-502e-4589-b385-e91d7905d030",
   "metadata": {},
   "outputs": [
    {
     "data": {
      "text/plain": [
       "{'name': '휴먼', 'age': 13}"
      ]
     },
     "execution_count": 3,
     "metadata": {},
     "output_type": "execute_result"
    }
   ],
   "source": [
    "person"
   ]
  },
  {
   "cell_type": "code",
   "execution_count": 4,
   "id": "96c2ce9f-8d37-4558-bdec-dfd81f0c6a1c",
   "metadata": {},
   "outputs": [],
   "source": [
    "person = {'name':'휴먼'}"
   ]
  },
  {
   "cell_type": "code",
   "execution_count": 5,
   "id": "a172ea0d-c286-44b9-abf7-d7f25f56da42",
   "metadata": {},
   "outputs": [
    {
     "name": "stdout",
     "output_type": "stream",
     "text": [
      "40\n"
     ]
    }
   ],
   "source": [
    "# person ['age']\n",
    "# person.get('age')\n",
    "age = person.get('age',40) # 기본값 40\n",
    "print(age)"
   ]
  },
  {
   "cell_type": "code",
   "execution_count": 6,
   "id": "ab70624f-978c-475a-824b-f4ac07ecf604",
   "metadata": {},
   "outputs": [],
   "source": [
    "person = {'name':'휴먼','age':15}"
   ]
  },
  {
   "cell_type": "code",
   "execution_count": 9,
   "id": "1de76ff1-db9c-4126-98f4-189e5f108eae",
   "metadata": {},
   "outputs": [
    {
     "name": "stdout",
     "output_type": "stream",
     "text": [
      "dict_keys(['name', 'age']) dict_values(['휴먼', 15])\n"
     ]
    }
   ],
   "source": [
    "key = person.keys() # 키 목록 조회\n",
    "values = person.values() # 값 목록 조회\n",
    "print(key, values)"
   ]
  },
  {
   "cell_type": "code",
   "execution_count": 12,
   "id": "514c17b0-7d10-4178-adfa-4f74bfa53e8c",
   "metadata": {},
   "outputs": [
    {
     "name": "stdout",
     "output_type": "stream",
     "text": [
      "['휴먼', 15]\n"
     ]
    }
   ],
   "source": [
    "values2= list(values)\n",
    "print(values2)"
   ]
  },
  {
   "cell_type": "code",
   "execution_count": 14,
   "id": "5aea9ceb-c862-4002-b160-c46f62a59b7e",
   "metadata": {},
   "outputs": [
    {
     "name": "stdout",
     "output_type": "stream",
     "text": [
      "dict_items([('name', '휴먼'), ('age', 15)])\n"
     ]
    }
   ],
   "source": [
    "items = person.items() # 키, 값 쌍\n",
    "print(items)"
   ]
  },
  {
   "cell_type": "code",
   "execution_count": 19,
   "id": "8841d90b-e7a6-4f47-9e52-02c37609d36f",
   "metadata": {},
   "outputs": [
    {
     "name": "stdout",
     "output_type": "stream",
     "text": [
      "name 휴먼\n",
      "age 15\n"
     ]
    }
   ],
   "source": [
    "for name, age in items:\n",
    "    print(name, age)"
   ]
  },
  {
   "cell_type": "code",
   "execution_count": 20,
   "id": "52217d32-4904-4418-a1e8-396283f5e125",
   "metadata": {},
   "outputs": [
    {
     "data": {
      "text/plain": [
       "True"
      ]
     },
     "execution_count": 20,
     "metadata": {},
     "output_type": "execute_result"
    }
   ],
   "source": [
    "'name' in person"
   ]
  }
 ],
 "metadata": {
  "kernelspec": {
   "display_name": "Python 3 (ipykernel)",
   "language": "python",
   "name": "python3"
  },
  "language_info": {
   "codemirror_mode": {
    "name": "ipython",
    "version": 3
   },
   "file_extension": ".py",
   "mimetype": "text/x-python",
   "name": "python",
   "nbconvert_exporter": "python",
   "pygments_lexer": "ipython3",
   "version": "3.12.7"
  }
 },
 "nbformat": 4,
 "nbformat_minor": 5
}
