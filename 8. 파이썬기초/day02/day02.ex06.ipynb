{
 "cells": [
  {
   "cell_type": "code",
   "execution_count": 1,
   "id": "e55a5837-d1b3-4796-a0f8-bf3905b26941",
   "metadata": {},
   "outputs": [],
   "source": [
    "a=10 # 자바의 리터널 상수 비슷, 재료가 되는 수는 1개의 주소를 가지고 공유\n",
    "b=10"
   ]
  },
  {
   "cell_type": "code",
   "execution_count": 3,
   "id": "cedd3b53-0a21-4c2b-80f4-b011a12b367e",
   "metadata": {},
   "outputs": [
    {
     "name": "stdout",
     "output_type": "stream",
     "text": [
      "140715056638680 140715056638680\n"
     ]
    }
   ],
   "source": [
    "print(id(a), id(b))"
   ]
  },
  {
   "cell_type": "code",
   "execution_count": 4,
   "id": "7ded6094-c219-456f-8f8c-10d557c63980",
   "metadata": {},
   "outputs": [],
   "source": [
    "a = [1,2,3,4,5] # a는 참조 변수"
   ]
  },
  {
   "cell_type": "code",
   "execution_count": 5,
   "id": "e9d4c6f2-cc9b-41a7-8fe3-b5fb3c86d203",
   "metadata": {},
   "outputs": [],
   "source": [
    "b = a # b 는 a가 가지고 있는  주소값이 대입"
   ]
  },
  {
   "cell_type": "code",
   "execution_count": 8,
   "id": "a728c28b-d47f-48a8-a2ab-7a9bb8e9127e",
   "metadata": {},
   "outputs": [],
   "source": [
    "b[1] = '둘'"
   ]
  },
  {
   "cell_type": "code",
   "execution_count": 10,
   "id": "0c81f3e9-1476-464a-86e2-73abf68651c8",
   "metadata": {},
   "outputs": [
    {
     "name": "stdout",
     "output_type": "stream",
     "text": [
      "[1, '둘', 3, 4, 5]\n"
     ]
    }
   ],
   "source": [
    "print(a)"
   ]
  },
  {
   "cell_type": "code",
   "execution_count": 12,
   "id": "a34b8a38-c550-4b43-a8c8-c7734304c1d0",
   "metadata": {},
   "outputs": [
    {
     "name": "stdout",
     "output_type": "stream",
     "text": [
      "[1, '둘', 3, 4, 5]\n"
     ]
    }
   ],
   "source": [
    "print(b)"
   ]
  },
  {
   "cell_type": "code",
   "execution_count": 14,
   "id": "c4a1e537-a24f-41b3-9813-8b2884c8c0fe",
   "metadata": {},
   "outputs": [
    {
     "name": "stdout",
     "output_type": "stream",
     "text": [
      "2224552211776 2224552211776\n"
     ]
    }
   ],
   "source": [
    "print(id(a), id(b))"
   ]
  },
  {
   "cell_type": "code",
   "execution_count": 16,
   "id": "32d7b55b-510a-41c9-a20a-3fd5dab24292",
   "metadata": {},
   "outputs": [
    {
     "data": {
      "text/plain": [
       "True"
      ]
     },
     "execution_count": 16,
     "metadata": {},
     "output_type": "execute_result"
    }
   ],
   "source": [
    "a is b"
   ]
  },
  {
   "cell_type": "code",
   "execution_count": 19,
   "id": "cee8d13d-3ecf-427a-b7f9-59869fe33ac2",
   "metadata": {},
   "outputs": [],
   "source": [
    "a = [1,2,3,4,5]"
   ]
  },
  {
   "cell_type": "code",
   "execution_count": 21,
   "id": "1686ecd8-95ad-4114-9376-b12ab4cb8310",
   "metadata": {},
   "outputs": [],
   "source": [
    "b = a[:] # 전체 값을 복사해서 새로운 리스트 객체 생성"
   ]
  },
  {
   "cell_type": "code",
   "execution_count": 23,
   "id": "a5745ada-943a-405e-bb5c-83e5667880d0",
   "metadata": {},
   "outputs": [],
   "source": [
    "b[1] = '둘'"
   ]
  },
  {
   "cell_type": "code",
   "execution_count": 27,
   "id": "3b871d30-c1b5-4ed2-b39f-41e32d4d80d5",
   "metadata": {},
   "outputs": [
    {
     "name": "stdout",
     "output_type": "stream",
     "text": [
      "[1, 2, 3, 4, 5] [1, '둘', 3, 4, 5] 2224601212928 2224601183360\n"
     ]
    }
   ],
   "source": [
    "print(a, b, id(a), id(b)) "
   ]
  },
  {
   "cell_type": "code",
   "execution_count": 30,
   "id": "fab53980-7e96-400e-8399-e0cf0d18d716",
   "metadata": {},
   "outputs": [],
   "source": [
    "c = a.copy() # 전체 값을 복사해서 새로운 리스트 객체 복사"
   ]
  },
  {
   "cell_type": "code",
   "execution_count": 32,
   "id": "7be62353-43e8-444a-b5b3-e9bb9738e9a1",
   "metadata": {},
   "outputs": [],
   "source": [
    "c[3] = ['사'] "
   ]
  },
  {
   "cell_type": "code",
   "execution_count": 34,
   "id": "0a9576ae-e1c9-4d6f-a007-64282743e487",
   "metadata": {},
   "outputs": [
    {
     "name": "stdout",
     "output_type": "stream",
     "text": [
      "[1, 2, 3, 4, 5] [1, 2, 3, ['사'], 5] 2224601212928 2224552283520\n"
     ]
    }
   ],
   "source": [
    "print(a,c,id(a),id(c))"
   ]
  },
  {
   "cell_type": "code",
   "execution_count": 35,
   "id": "e13a7481-23d9-4379-9ae5-3b45069996e7",
   "metadata": {},
   "outputs": [],
   "source": [
    "[a,b] = ['사과','오렌지']"
   ]
  },
  {
   "cell_type": "code",
   "execution_count": 36,
   "id": "bdd6148e-5600-4a4f-b3fa-70f72b27b99c",
   "metadata": {},
   "outputs": [
    {
     "name": "stdout",
     "output_type": "stream",
     "text": [
      "사과 오렌지\n"
     ]
    }
   ],
   "source": [
    "print(a,b)"
   ]
  }
 ],
 "metadata": {
  "kernelspec": {
   "display_name": "Python 3 (ipykernel)",
   "language": "python",
   "name": "python3"
  },
  "language_info": {
   "codemirror_mode": {
    "name": "ipython",
    "version": 3
   },
   "file_extension": ".py",
   "mimetype": "text/x-python",
   "name": "python",
   "nbconvert_exporter": "python",
   "pygments_lexer": "ipython3",
   "version": "3.12.7"
  }
 },
 "nbformat": 4,
 "nbformat_minor": 5
}
