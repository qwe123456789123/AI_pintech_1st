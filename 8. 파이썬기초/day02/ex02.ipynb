{
 "cells": [
  {
   "cell_type": "code",
   "execution_count": 1,
   "id": "e9d1146d-25a6-4656-8724-5847aa63af0b",
   "metadata": {},
   "outputs": [],
   "source": [
    "# a=(1,2,3)\n",
    "# a = (1) # 튜플이 아닌 숫자 1로 인식\n",
    "a = (1,) # 숫자 1이라는 값이 1개 있는 튜플"
   ]
  },
  {
   "cell_type": "code",
   "execution_count": 2,
   "id": "696b94d2-f9b8-4b9b-8cab-5e6c8d1988d8",
   "metadata": {},
   "outputs": [],
   "source": [
    "# a[1]\n",
    "# a[1] = 'A' - 변경 불가 리스트 이므로 수정시 오류 발생\n",
    "# del a[1]"
   ]
  },
  {
   "cell_type": "code",
   "execution_count": 3,
   "id": "eada2bcc-0640-4cb5-bfde-6b02edcbdf39",
   "metadata": {},
   "outputs": [
    {
     "data": {
      "text/plain": [
       "(1,)"
      ]
     },
     "execution_count": 3,
     "metadata": {},
     "output_type": "execute_result"
    }
   ],
   "source": [
    "a"
   ]
  },
  {
   "cell_type": "code",
   "execution_count": 4,
   "id": "77ae0eef-0e84-4b89-8d75-ad6ae3778fb9",
   "metadata": {},
   "outputs": [
    {
     "data": {
      "text/plain": [
       "tuple"
      ]
     },
     "execution_count": 4,
     "metadata": {},
     "output_type": "execute_result"
    }
   ],
   "source": [
    "# type((1)) # 숫자\n",
    "type((1,)) # 튜플"
   ]
  },
  {
   "cell_type": "code",
   "execution_count": 5,
   "id": "23a021d7-46e7-4bc4-b839-aacf33026894",
   "metadata": {},
   "outputs": [],
   "source": [
    "a = 1,2,3,4,5 # 튜플로 인식"
   ]
  },
  {
   "cell_type": "code",
   "execution_count": 6,
   "id": "e2d9909b-8534-4325-94f0-d77c51965d31",
   "metadata": {},
   "outputs": [
    {
     "data": {
      "text/plain": [
       "(1, 2, 3, 4, 5)"
      ]
     },
     "execution_count": 6,
     "metadata": {},
     "output_type": "execute_result"
    }
   ],
   "source": [
    "a"
   ]
  },
  {
   "cell_type": "code",
   "execution_count": 7,
   "id": "c57fd7ef-637a-4bd2-b040-a2c3422b8e02",
   "metadata": {},
   "outputs": [
    {
     "data": {
      "text/plain": [
       "tuple"
      ]
     },
     "execution_count": 7,
     "metadata": {},
     "output_type": "execute_result"
    }
   ],
   "source": [
    "type(a)"
   ]
  },
  {
   "cell_type": "code",
   "execution_count": 8,
   "id": "fafd6ceb-7d58-47a3-be6c-ebf46ec35221",
   "metadata": {},
   "outputs": [],
   "source": [
    "a=(1,2,3)\n",
    "b=(4,5,6)"
   ]
  },
  {
   "cell_type": "code",
   "execution_count": 9,
   "id": "9180bc91-8a8b-44c4-b4f3-ba7a16c4e0e3",
   "metadata": {},
   "outputs": [
    {
     "name": "stdout",
     "output_type": "stream",
     "text": [
      "(1, 2, 3, 4, 5, 6)\n"
     ]
    }
   ],
   "source": [
    "c = a+b\n",
    "print(c)"
   ]
  },
  {
   "cell_type": "code",
   "execution_count": 10,
   "id": "cf0b38f9-fbbb-450e-a381-1173893deea4",
   "metadata": {},
   "outputs": [
    {
     "name": "stdout",
     "output_type": "stream",
     "text": [
      "(1, 2, 3, 1, 2, 3, 1, 2, 3)\n"
     ]
    }
   ],
   "source": [
    "d = a*3\n",
    "print(d)"
   ]
  },
  {
   "cell_type": "code",
   "execution_count": 11,
   "id": "607da52d-3b5d-4d9c-96bb-b5b029d5212a",
   "metadata": {},
   "outputs": [],
   "source": [
    "# a = (\"사과\",\"오렌지\")\n",
    "a = \"사과\",\"오렌지\""
   ]
  },
  {
   "cell_type": "code",
   "execution_count": 12,
   "id": "dd6cf356-160b-4537-8832-9456ed11f598",
   "metadata": {},
   "outputs": [],
   "source": [
    "# (apple, orange) = a\n",
    "apple, orange = a"
   ]
  },
  {
   "cell_type": "code",
   "execution_count": 13,
   "id": "f663067d-c445-45d4-beca-76a21b6203e2",
   "metadata": {},
   "outputs": [
    {
     "name": "stdout",
     "output_type": "stream",
     "text": [
      "사과 오렌지\n"
     ]
    }
   ],
   "source": [
    "print(apple, orange)"
   ]
  },
  {
   "cell_type": "code",
   "execution_count": 14,
   "id": "7ea2e5b0-93a6-4b40-bd29-7763426a2bcc",
   "metadata": {},
   "outputs": [],
   "source": [
    "a= 20\n",
    "b= 10"
   ]
  },
  {
   "cell_type": "code",
   "execution_count": 15,
   "id": "466862c6-86fd-4f05-8cb6-2f115f5f9e89",
   "metadata": {},
   "outputs": [],
   "source": [
    "a,b = b,a"
   ]
  },
  {
   "cell_type": "code",
   "execution_count": 16,
   "id": "af561a1a-4383-4609-a2eb-614bc43ed30a",
   "metadata": {},
   "outputs": [
    {
     "name": "stdout",
     "output_type": "stream",
     "text": [
      "10 20\n"
     ]
    }
   ],
   "source": [
    "print(a,b)"
   ]
  }
 ],
 "metadata": {
  "kernelspec": {
   "display_name": "Python 3 (ipykernel)",
   "language": "python",
   "name": "python3"
  },
  "language_info": {
   "codemirror_mode": {
    "name": "ipython",
    "version": 3
   },
   "file_extension": ".py",
   "mimetype": "text/x-python",
   "name": "python",
   "nbconvert_exporter": "python",
   "pygments_lexer": "ipython3",
   "version": "3.12.7"
  }
 },
 "nbformat": 4,
 "nbformat_minor": 5
}
