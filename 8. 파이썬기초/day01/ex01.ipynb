{
 "cells": [
  {
   "cell_type": "code",
   "execution_count": 2,
   "id": "5f921479-3651-4481-8646-be0f005f95cb",
   "metadata": {},
   "outputs": [
    {
     "name": "stdout",
     "output_type": "stream",
     "text": [
      "첫번째 파이썬 프로그램\n"
     ]
    }
   ],
   "source": [
    "print(\"첫번째 파이썬 프로그램\")"
   ]
  },
  {
   "cell_type": "code",
   "execution_count": 3,
   "id": "6614547b-ecaa-46bd-b446-f8eb3a8774a7",
   "metadata": {},
   "outputs": [
    {
     "data": {
      "text/plain": [
       "8"
      ]
     },
     "execution_count": 3,
     "metadata": {},
     "output_type": "execute_result"
    }
   ],
   "source": [
    "# **: 제곱 연산\n",
    "2**3 # 2의  3 제곱"
   ]
  },
  {
   "cell_type": "code",
   "execution_count": 7,
   "id": "539786a8-456e-4b8c-977d-4eff6cdeeffc",
   "metadata": {},
   "outputs": [
    {
     "name": "stdout",
     "output_type": "stream",
     "text": [
      "1\n",
      "4\n"
     ]
    }
   ],
   "source": [
    "# %: 나머지 연산자\n",
    "# //: 몫을 구하는 연산자\n",
    "print(9%2)\n",
    "print(9//2)"
   ]
  },
  {
   "cell_type": "code",
   "execution_count": 8,
   "id": "e5862112-9598-4a97-81b2-4aaec189229f",
   "metadata": {},
   "outputs": [
    {
     "data": {
      "text/plain": [
       "str"
      ]
     },
     "execution_count": 8,
     "metadata": {},
     "output_type": "execute_result"
    }
   ],
   "source": [
    "# a= 100\n",
    "# a = 100.123\n",
    "# a = \"Ptthon\"\n",
    "a= 'Python'\n",
    "type(a) # 자료형 체크 함수"
   ]
  },
  {
   "cell_type": "code",
   "execution_count": 9,
   "id": "6b157452-cc50-410b-8c42-4c76519e15ec",
   "metadata": {},
   "outputs": [
    {
     "ename": "SyntaxError",
     "evalue": "unterminated string literal (detected at line 1) (403542260.py, line 1)",
     "output_type": "error",
     "traceback": [
      "\u001b[1;36m  Cell \u001b[1;32mIn[9], line 1\u001b[1;36m\u001b[0m\n\u001b[1;33m    \"Python's favorit food is perl\u001b[0m\n\u001b[1;37m    ^\u001b[0m\n\u001b[1;31mSyntaxError\u001b[0m\u001b[1;31m:\u001b[0m unterminated string literal (detected at line 1)\n"
     ]
    }
   ],
   "source": [
    "# \"Python's favorit food is perl"
   ]
  },
  {
   "cell_type": "code",
   "execution_count": 15,
   "id": "8eea58a2-6c44-46ac-8e25-e53c08bb6db4",
   "metadata": {
    "editable": true,
    "slideshow": {
     "slide_type": ""
    },
    "tags": []
   },
   "outputs": [
    {
     "data": {
      "text/plain": [
       "\"Python's favorit food is perl\""
      ]
     },
     "execution_count": 15,
     "metadata": {},
     "output_type": "execute_result"
    }
   ],
   "source": [
    "#\"Python's favorit food is perl\n",
    "'Python\\'s favorit food is perl' # \\' - 작은 따음표 안식 기능 \\ - escape 문자\n",
    "\"Python\\'s favorit food is perl\""
   ]
  },
  {
   "cell_type": "code",
   "execution_count": 16,
   "id": "1866ad38-846d-4452-a84d-187764362fd8",
   "metadata": {},
   "outputs": [
    {
     "name": "stdout",
     "output_type": "stream",
     "text": [
      "Life is shot, \n",
      "You need python\n"
     ]
    }
   ],
   "source": [
    "a=\"Life is shot, \\nYou need python\" # \\n 메타 문자 / 줄 기행\n",
    "print(a)"
   ]
  },
  {
   "cell_type": "code",
   "execution_count": 17,
   "id": "04bb18d5-a044-4ac3-83e1-7cd92a3a66d5",
   "metadata": {},
   "outputs": [
    {
     "name": "stdout",
     "output_type": "stream",
     "text": [
      "Life is shot,\n",
      "You need python\n"
     ]
    }
   ],
   "source": [
    "b = \"\"\"Life is shot,\n",
    "You need python\"\"\"\n",
    "print(b)"
   ]
  },
  {
   "cell_type": "code",
   "execution_count": 19,
   "id": "fe31337c-338e-4de6-8a0e-34e8832126fc",
   "metadata": {},
   "outputs": [
    {
     "data": {
      "text/plain": [
       "'pythonisnot fun'"
      ]
     },
     "execution_count": 19,
     "metadata": {},
     "output_type": "execute_result"
    }
   ],
   "source": [
    "\"python\"+\"is\"+\"not fun\""
   ]
  },
  {
   "cell_type": "code",
   "execution_count": 20,
   "id": "38f8476c-dbec-48a1-93f5-92e3c75b9b39",
   "metadata": {},
   "outputs": [
    {
     "data": {
      "text/plain": [
       "'pythonpythonpython'"
      ]
     },
     "execution_count": 20,
     "metadata": {},
     "output_type": "execute_result"
    }
   ],
   "source": [
    "\"python\" * 3"
   ]
  },
  {
   "cell_type": "code",
   "execution_count": 21,
   "id": "1d42f473-f2af-4230-8af8-bc186ab2b500",
   "metadata": {},
   "outputs": [
    {
     "name": "stdout",
     "output_type": "stream",
     "text": [
      "==============================\n",
      "왜왜왜왜왜왜왜왜왜왜\n",
      "==============================\n"
     ]
    }
   ],
   "source": [
    "print(\"=\" * 30)\n",
    "print(\"왜\"*10)\n",
    "print(\"=\"*30)"
   ]

  }
 ],
 "metadata": {
  "kernelspec": {
   "display_name": "Python 3 (ipykernel)",
   "language": "python",
   "name": "python3"
  },
  "language_info": {
   "codemirror_mode": {
    "name": "ipython",
    "version": 3
   },
   "file_extension": ".py",
   "mimetype": "text/x-python",
   "name": "python",
   "nbconvert_exporter": "python",
   "pygments_lexer": "ipython3",
   "version": "3.12.7"
  },
  "toc": {
   "base_numbering": 0
  }
 },
 "nbformat": 4,
 "nbformat_minor": 5
}
