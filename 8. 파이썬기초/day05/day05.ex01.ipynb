{
 "cells": [
  {
   "cell_type": "code",
   "execution_count": 4,
   "id": "405a8364-5f76-4a53-828b-1e6bec0318d3",
   "metadata": {},
   "outputs": [
    {
     "name": "stdout",
     "output_type": "stream",
     "text": [
      "문제 발생\n",
      "실행 되야함\n"
     ]
    }
   ],
   "source": [
    "try:\n",
    "    num1 =10\n",
    "    num2 =0\n",
    "    result  = num1 / num2\n",
    "    print(result)\n",
    "except: # 예외에 대한 처리 구간\n",
    "    print(\"문제 발생\")\n",
    "print(\"실행 되야함\")"
   ]
  },
  {
   "cell_type": "code",
   "execution_count": 11,
   "id": "28da67d1-128a-492f-ba9a-368a4a8f1aa2",
   "metadata": {},
   "outputs": [
    {
     "name": "stdout",
     "output_type": "stream",
     "text": [
      "5.0\n",
      "'망고' is not in list\n",
      "Traceback (most recent call last):\n",
      "  File \"C:\\Users\\admin\\AppData\\Local\\Temp\\ipykernel_12660\\211178662.py\", line 8, in <module>\n",
      "    pos = fruits.index('망고')\n",
      "          ^^^^^^^^^^^^^^^^^^^^\n",
      "ValueError: '망고' is not in list\n",
      "\n",
      "실행 되야함\n"
     ]
    }
   ],
   "source": [
    "import traceback\n",
    "try:\n",
    "    num1 =10\n",
    "    num2 =2\n",
    "    result  = num1 / num2\n",
    "    print(result)\n",
    "    fruits = ['사과','멜론','오렌지']\n",
    "    pos = fruits.index('망고')\n",
    "    print(pos)\n",
    "except ZeroDivisionError as e: # 예외에 대한 처리 구간, e: 발생한 예외 객체 참조 변수\n",
    "    print(e) # __str__ 호출\n",
    "    print(traceback.format_exc()) # 예외 발생에 대한 자세한 정보 확인\n",
    "except ValueError as e:\n",
    "    print(e)\n",
    "    print(traceback.format_exc())\n",
    "print(\"실행 되야함\")"
   ]
  },
  {
   "cell_type": "code",
   "execution_count": 12,
   "id": "6cd6d759-9982-44d0-9aa4-41a10f08675e",
   "metadata": {},
   "outputs": [
    {
     "name": "stdout",
     "output_type": "stream",
     "text": [
      "5.0\n",
      "문제 발생\n",
      "실행 되야함\n"
     ]
    }
   ],
   "source": [
    "try:\n",
    "    num1 =10\n",
    "    num2 =2\n",
    "    result  = num1 / num2\n",
    "    print(result)\n",
    "    fruits = ['사과','멜론','오렌지']\n",
    "    pos = fruits.index('망고')\n",
    "    print(pos)\n",
    "except (ZeroDivisionError,ValueError): # 예외에 대한 처리 구간\n",
    "    print(\"문제 발생\")\n",
    "print(\"실행 되야함\")"
   ]
  },
  {
   "cell_type": "code",
   "execution_count": 13,
   "id": "f3cfc09b-e700-4ffe-881d-07a4eb7b5773",
   "metadata": {},
   "outputs": [],
   "source": [
    "def add(a,b):\n",
    "    return a+b # return 하면 함수는 종료\n",
    "    print('실행')"
   ]
  },
  {
   "cell_type": "code",
   "execution_count": 15,
   "id": "2f6edc39-c814-44be-8c5b-51de7e2530f6",
   "metadata": {},
   "outputs": [
    {
     "data": {
      "text/plain": [
       "30"
      ]
     },
     "execution_count": 15,
     "metadata": {},
     "output_type": "execute_result"
    }
   ],
   "source": [
    "add(10,20)"
   ]
  },
  {
   "cell_type": "code",
   "execution_count": 17,
   "id": "6f59cd04-92b6-4a1a-be68-e1b92ed97130",
   "metadata": {},
   "outputs": [],
   "source": [
    "def add(a,b):\n",
    "    try:\n",
    "        return a+b # return 하면 함수는 종료\n",
    "    finally: # 무조건 실행함, 로그는 남음\n",
    "        print('실행')"
   ]
  },
  {
   "cell_type": "code",
   "execution_count": 19,
   "id": "bf97fcee-7279-4359-902d-9cbea8e3bd1c",
   "metadata": {},
   "outputs": [
    {
     "name": "stdout",
     "output_type": "stream",
     "text": [
      "실행\n"
     ]
    },
    {
     "data": {
      "text/plain": [
       "30"
      ]
     },
     "execution_count": 19,
     "metadata": {},
     "output_type": "execute_result"
    }
   ],
   "source": [
    "add(10,20)"
   ]
  },
  {
   "cell_type": "code",
   "execution_count": 21,
   "id": "48b1e9f7-89a7-4e14-8180-cc896a036912",
   "metadata": {},
   "outputs": [
    {
     "name": "stdout",
     "output_type": "stream",
     "text": [
      "5.0\n",
      "문제 발생\n"
     ]
    }
   ],
   "source": [
    "try:\n",
    "    num1 =10\n",
    "    num2 =2\n",
    "    result  = num1 / num2\n",
    "    print(result)\n",
    "    fruits = ['사과','멜론','오렌지']\n",
    "    # pos = fruits.index('망고')\n",
    "    pos = fruits.find('망고') # 못찾으면 -1 반환\n",
    "    print(pos)\n",
    "except Exception: # 다형성 예회가 발생하면\n",
    "    print(\"문제 발생\")\n",
    "else: # 예외가 발생하지 않으면 실행됨\n",
    "    print(\"처리됨\")"
   ]
  },
  {
   "cell_type": "code",
   "execution_count": 22,
   "id": "959874fb-e71a-4095-880f-7581f37be7db",
   "metadata": {},
   "outputs": [
    {
     "name": "stdout",
     "output_type": "stream",
     "text": [
      "5.0\n",
      "실행 되야함\n"
     ]
    }
   ],
   "source": [
    "try:\n",
    "    num1 =10\n",
    "    num2 =2\n",
    "    result  = num1 / num2\n",
    "    print(result)\n",
    "    fruits = ['사과','멜론','오렌지']\n",
    "    pos = fruits.index('망고')\n",
    "    print(pos)\n",
    "except (ZeroDivisionError,ValueError):\n",
    "    pass # 예외 처리 안함\n",
    "    # print(\"문제 발생\")\n",
    "print(\"실행 되야함\")"
   ]
  },
  {
   "cell_type": "code",
   "execution_count": 4,
   "id": "84b83cbd-3ad4-4e7c-84e0-70322e545687",
   "metadata": {},
   "outputs": [],
   "source": [
    "def login(user_id, user_pass):\n",
    "    if user_id != 'user01':\n",
    "        raise Exception('아이디 불일치')\n",
    "    if user_pass != '1234':\n",
    "        raise Exception('비번 불일치')\n",
    "    print('성공')"
   ]
  },
  {
   "cell_type": "code",
   "execution_count": 5,
   "id": "9772b1a6-8478-4a94-944e-235309b86973",
   "metadata": {},
   "outputs": [
    {
     "name": "stdout",
     "output_type": "stream",
     "text": [
      "성공\n"
     ]
    }
   ],
   "source": [
    "login('user01','1234')"
   ]
  },
  {
   "cell_type": "code",
   "execution_count": 17,
   "id": "50f3cc76-ddf3-4d88-bae1-2ccb48ce5ebe",
   "metadata": {},
   "outputs": [],
   "source": [
    "class UserIdException(Exception): # Exception 클래스를 상속 받으면 예외 클래스 된다.\n",
    "    def __str__(self):\n",
    "        return print(\"아이디 불일치\") \n",
    "class UserPassException(Exception):\n",
    "    def __str__(self):\n",
    "        return print(\"비번 불일치\")"
   ]
  },
  {
   "cell_type": "code",
   "execution_count": 18,
   "id": "4a9d242e-3256-459d-b993-ba5adcb04e5f",
   "metadata": {},
   "outputs": [],
   "source": [
    "def login(user_Id, user_Pass):\n",
    "    if user_id != 'qwe123':\n",
    "        raise UserIdException\n",
    "    if user_pass != '1234':\n",
    "        raise UserPassException\n",
    "    print(\"성공\")"
   ]
  },
  {
   "cell_type": "code",
   "execution_count": 20,
   "id": "ac5f2e8e-2ed4-4295-8633-65d01e51fac5",
   "metadata": {},
   "outputs": [
    {
     "ename": "NameError",
     "evalue": "name 'user_id' is not defined",
     "output_type": "error",
     "traceback": [
      "\u001b[1;31m---------------------------------------------------------------------------\u001b[0m",
      "\u001b[1;31mNameError\u001b[0m                                 Traceback (most recent call last)",
      "Cell \u001b[1;32mIn[20], line 3\u001b[0m\n\u001b[0;32m      1\u001b[0m \u001b[38;5;28;01mimport\u001b[39;00m \u001b[38;5;21;01mtraceback\u001b[39;00m\n\u001b[0;32m      2\u001b[0m \u001b[38;5;28;01mtry\u001b[39;00m:\n\u001b[1;32m----> 3\u001b[0m     login(\u001b[38;5;124m'\u001b[39m\u001b[38;5;124mqwe123\u001b[39m\u001b[38;5;124m'\u001b[39m,\u001b[38;5;124m'\u001b[39m\u001b[38;5;124m4567\u001b[39m\u001b[38;5;124m'\u001b[39m)\n\u001b[0;32m      4\u001b[0m \u001b[38;5;28;01mexcept\u001b[39;00m (UserIdException, UserPassException) \u001b[38;5;28;01mas\u001b[39;00m e:\n\u001b[0;32m      5\u001b[0m     \u001b[38;5;28mprint\u001b[39m(e) \u001b[38;5;66;03m# __str__ 호출\u001b[39;00m\n",
      "Cell \u001b[1;32mIn[18], line 2\u001b[0m, in \u001b[0;36mlogin\u001b[1;34m(user_Id, user_Pass)\u001b[0m\n\u001b[0;32m      1\u001b[0m \u001b[38;5;28;01mdef\u001b[39;00m \u001b[38;5;21mlogin\u001b[39m(user_Id, user_Pass):\n\u001b[1;32m----> 2\u001b[0m     \u001b[38;5;28;01mif\u001b[39;00m user_id \u001b[38;5;241m!=\u001b[39m \u001b[38;5;124m'\u001b[39m\u001b[38;5;124mqwe123\u001b[39m\u001b[38;5;124m'\u001b[39m:\n\u001b[0;32m      3\u001b[0m         \u001b[38;5;28;01mraise\u001b[39;00m UserIdException\n\u001b[0;32m      4\u001b[0m     \u001b[38;5;28;01mif\u001b[39;00m user_pass \u001b[38;5;241m!=\u001b[39m \u001b[38;5;124m'\u001b[39m\u001b[38;5;124m1234\u001b[39m\u001b[38;5;124m'\u001b[39m:\n",
      "\u001b[1;31mNameError\u001b[0m: name 'user_id' is not defined"
     ]
    }
   ],
   "source": [
    "import traceback\n",
    "try:\n",
    "    login('qwe123','4567')\n",
    "except (UserIdException, UserPassException) as e:\n",
    "    print(e) # __str__ 호출\n",
    "    print(traceback.format_exc())"
   ]
  },
  {
   "cell_type": "code",
   "execution_count": null,
   "id": "5f337b2a-7eb8-44fc-a951-b3846e0131ef",
   "metadata": {},
   "outputs": [],
   "source": []
  }
 ],
 "metadata": {
  "kernelspec": {
   "display_name": "Python 3 (ipykernel)",
   "language": "python",
   "name": "python3"
  },
  "language_info": {
   "codemirror_mode": {
    "name": "ipython",
    "version": 3
   },
   "file_extension": ".py",
   "mimetype": "text/x-python",
   "name": "python",
   "nbconvert_exporter": "python",
   "pygments_lexer": "ipython3",
   "version": "3.12.7"
  }
 },
 "nbformat": 4,
 "nbformat_minor": 5
}
