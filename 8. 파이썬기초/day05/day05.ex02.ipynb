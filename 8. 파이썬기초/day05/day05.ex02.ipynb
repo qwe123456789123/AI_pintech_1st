{
 "cells": [
  {
   "cell_type": "code",
   "execution_count": 2,
   "id": "5ad509a4-315b-4b31-841e-d40f2178bba3",
   "metadata": {},
   "outputs": [
    {
     "name": "stdout",
     "output_type": "stream",
     "text": [
      "True\n",
      "140718755621592 140718755621592\n"
     ]
    }
   ],
   "source": [
    "a = 10\n",
    "b = 10\n",
    "print(a==b)\n",
    "print(id(a),id(b))"
   ]
  },
  {
   "cell_type": "code",
   "execution_count": 3,
   "id": "736efd9f-e155-4043-930d-7337f9a276e3",
   "metadata": {},
   "outputs": [
    {
     "name": "stdout",
     "output_type": "stream",
     "text": [
      "140718754759400 140718754759400\n"
     ]
    }
   ],
   "source": [
    "a = 'abc'\n",
    "b = 'abc'\n",
    "print(id(a),id(b))"
   ]
  }
 ],
 "metadata": {
  "kernelspec": {
   "display_name": "Python 3 (ipykernel)",
   "language": "python",
   "name": "python3"
  },
  "language_info": {
   "codemirror_mode": {
    "name": "ipython",
    "version": 3
   },
   "file_extension": ".py",
   "mimetype": "text/x-python",
   "name": "python",
   "nbconvert_exporter": "python",
   "pygments_lexer": "ipython3",
   "version": "3.12.7"
  }
 },
 "nbformat": 4,
 "nbformat_minor": 5
}
