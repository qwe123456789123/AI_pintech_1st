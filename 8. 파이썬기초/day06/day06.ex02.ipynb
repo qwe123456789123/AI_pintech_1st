{
 "cells": [
  {
   "cell_type": "code",
   "execution_count": 3,
   "id": "dd920878-574a-4b25-8a6a-b2287610f88a",
   "metadata": {},
   "outputs": [
    {
     "name": "stdout",
     "output_type": "stream",
     "text": [
      "\n",
      "park 123456-*******\n",
      "kim 789426-*******\n",
      "\n"
     ]
    }
   ],
   "source": [
    "import re\n",
    "\n",
    "data = '''\n",
    "park 123456-7894561\n",
    "kim 789426-1597538\n",
    "'''\n",
    "\n",
    "p = re.compile(\"(\\\\d{6})[-]\\\\d{7}\")\n",
    "print(p.sub(\"\\\\g<1>-*******\", data))"
   ]
  },
  {
   "cell_type": "code",
   "execution_count": 5,
   "id": "4fa62100-fd25-412b-9602-1f792a75bb76",
   "metadata": {},
   "outputs": [
    {
     "data": {
      "text/plain": [
       "<re.Match object; span=(0, 1), match='a'>"
      ]
     },
     "execution_count": 5,
     "metadata": {},
     "output_type": "execute_result"
    }
   ],
   "source": [
    "p = re.compile(\"[abc]\") # a b c 각각  패턴 체크\n",
    "p.match('a1234b') # match는 패턴을 첫 문자부터 체크"
   ]
  },
  {
   "cell_type": "code",
   "execution_count": 6,
   "id": "ed42ace8-0cec-4691-966c-0e75a62212cd",
   "metadata": {},
   "outputs": [
    {
     "data": {
      "text/plain": [
       "<re.Match object; span=(0, 1), match='A'>"
      ]
     },
     "execution_count": 6,
     "metadata": {},
     "output_type": "execute_result"
    }
   ],
   "source": [
    "# 체크하는 문자열이 알파벳으로 구성되어 있는지 체크\n",
    "p = re.compile(\"[a-zA-Z]\") # 성정한 알파벳 부터 끝까지 \n",
    "# p.match(\"abcdefg1234\")\n",
    "p.match(\"ABC1234\") # 대문자를 매칭하면 "
   ]
  },
  {
   "cell_type": "code",
   "execution_count": 8,
   "id": "6a9c8e95-f471-4ea8-b757-3dca046eed1f",
   "metadata": {},
   "outputs": [
    {
     "data": {
      "text/plain": [
       "<re.Match object; span=(0, 1), match='1'>"
      ]
     },
     "execution_count": 8,
     "metadata": {},
     "output_type": "execute_result"
    }
   ],
   "source": [
    "p = re.compile(\"[0-9]\") # 숫자로 패턴이 시작하는지 알고 싶은 경우\n",
    "p = re.compile(\"\\\\d\") # \\d == [0-9]\n",
    "p.match(\"123ABC\")"
   ]
  },
  {
   "cell_type": "code",
   "execution_count": 12,
   "id": "dc9ded74-d3b5-4598-90d8-cc19ec6f9185",
   "metadata": {},
   "outputs": [
    {
     "data": {
      "text/plain": [
       "<re.Match object; span=(0, 1), match='!'>"
      ]
     },
     "execution_count": 12,
     "metadata": {},
     "output_type": "execute_result"
    }
   ],
   "source": [
    "# [..] 문자 클래스에 ^로 시작하면 ~~ 아닌 패턴\n",
    "# [^0-9] 0~9 숫자를 제외한 모든 문자\n",
    "# p =re.compile(\"[0-9]\") # 숫자로 시작하면 안되는 패턴\n",
    "# \\소문자 ~ 인패턴, \\대문자~가 아닌 패턴[^...]\n",
    "p =re.compile(\"\\\\D\")\n",
    "p.match(\"!123ABC\")"
   ]
  },
  {
   "cell_type": "code",
   "execution_count": 13,
   "id": "d64c0829-998f-4f5b-a51d-e94cd17a38fc",
   "metadata": {},
   "outputs": [
    {
     "data": {
      "text/plain": [
       "<re.Match object; span=(0, 1), match='1'>"
      ]
     },
     "execution_count": 13,
     "metadata": {},
     "output_type": "execute_result"
    }
   ],
   "source": [
    "# raw 문자 그대로 인식 - \\d 사용 가능 r'...'\n",
    "p = re.compile(r'\\d')\n",
    "p.match(\"123ABC\")"
   ]
  },
  {
   "cell_type": "code",
   "execution_count": 18,
   "id": "392804c5-3be9-4875-8c35-d0e9be0aad1c",
   "metadata": {},
   "outputs": [
    {
     "data": {
      "text/plain": [
       "<re.Match object; span=(0, 5), match='a123b'>"
      ]
     },
     "execution_count": 18,
     "metadata": {},
     "output_type": "execute_result"
    }
   ],
   "source": [
    "# . : \\n(줄갱행 문자)를 제외한 모든 문자 1개\n",
    "# p = re.compile(\"a...b\")\n",
    "p = re.compile(\"a.{3}b\")\n",
    "# p.match(\"abb\")\n",
    "# p.match(\"a\\nb\") # 매칭 안됨\n",
    "p.match(\"a123b\")"
   ]
  },
  {
   "cell_type": "code",
   "execution_count": 39,
   "id": "598884d4-3a3d-45d9-bb81-09b0e658fc31",
   "metadata": {},
   "outputs": [
    {
     "name": "stdout",
     "output_type": "stream",
     "text": [
      "None\n",
      "<re.Match object; span=(0, 13), match='010-1111-1111'>\n"
     ]
    }
   ],
   "source": [
    "# 휴대전화번호 검증\n",
    "p = re.compile(r\"01[016]\\D*\\d{3,4}\\D*\\d{4}$\")\n",
    "# ^01 -> 반드시 01로 시작하고 \\d{4}$ - 반드시 숫자 4자리로 끝난다\n",
    "p.match(\"123123*-123-1234\") # -, ,_, ... 숫자가 아닌 모든 특수문자가 사이에 있어도 통과\n",
    "print(p.search(\"123123*-123-1234\"))\n",
    "print(p.search(\"010-1111-1111\"))"
   ]
  },
  {
   "cell_type": "code",
   "execution_count": 37,
   "id": "c809b46e-56c6-4441-b3bf-32be827b105b",
   "metadata": {},
   "outputs": [],
   "source": [
    "# {숫자,} 숫자이상 반복\n",
    "# (...) 패턴을 그룹화\n",
    "# p = re.compile(r\"(AB){3,}\")\n",
    "p = re.compile(r\".*\\d.*\")\n",
    "p.match(\"ABABAB\") "
   ]
  },
  {
   "cell_type": "code",
   "execution_count": 23,
   "id": "ad055a81-8595-4915-a559-ee9585cf29e4",
   "metadata": {},
   "outputs": [
    {
     "data": {
      "text/plain": [
       "<re.Match object; span=(0, 9), match='abc123acb'>"
      ]
     },
     "execution_count": 23,
     "metadata": {},
     "output_type": "execute_result"
    }
   ],
   "source": [
    "p = re.compile(r\".*\\d*\") # 숫자가 포함된 패턴\n",
    "p.match(\"abc123acb\")"
   ]
  }
 ],
 "metadata": {
  "kernelspec": {
   "display_name": "Python 3 (ipykernel)",
   "language": "python",
   "name": "python3"
  },
  "language_info": {
   "codemirror_mode": {
    "name": "ipython",
    "version": 3
   },
   "file_extension": ".py",
   "mimetype": "text/x-python",
   "name": "python",
   "nbconvert_exporter": "python",
   "pygments_lexer": "ipython3",
   "version": "3.12.7"
  }
 },
 "nbformat": 4,
 "nbformat_minor": 5
}
