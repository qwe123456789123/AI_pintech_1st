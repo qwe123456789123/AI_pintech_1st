{
 "cells": [
  {
   "cell_type": "code",
   "execution_count": 15,
   "id": "bd4fba16-e9ef-4d54-bed4-a803e07bfd83",
   "metadata": {},
   "outputs": [],
   "source": [
    "# 이터레이터를 만들려면 iter(...)\n",
    "fruits = ['사과','오렌지','망고','멜론']\n",
    "itr = iter(fruits) # 이터레이터 객체"
   ]
  },
  {
   "cell_type": "code",
   "execution_count": 8,
   "id": "852b28e4-ed9c-499e-81a4-6bc674bdcc43",
   "metadata": {},
   "outputs": [],
   "source": [
    "while True:\n",
    "    try:\n",
    "        print(next(itr))\n",
    "    except StopIteration:\n",
    "        break"
   ]
  },
  {
   "cell_type": "code",
   "execution_count": 16,
   "id": "29c272fe-2279-40fd-b687-eb19c1ea7eef",
   "metadata": {},
   "outputs": [
    {
     "name": "stdout",
     "output_type": "stream",
     "text": [
      "['사과', '오렌지', '망고', '멜론']\n",
      "['사과', '오렌지', '망고', '멜론']\n",
      "['사과', '오렌지', '망고', '멜론']\n",
      "['사과', '오렌지', '망고', '멜론']\n"
     ]
    }
   ],
   "source": [
    "for fruit in itr:\n",
    "    print(fruits)"
   ]
  },
  {
   "cell_type": "code",
   "execution_count": null,
   "id": "846d823e-d82b-4b5b-a9d5-4c4f72d27e79",
   "metadata": {},
   "outputs": [],
   "source": []
  }
 ],
 "metadata": {
  "kernelspec": {
   "display_name": "Python 3 (ipykernel)",
   "language": "python",
   "name": "python3"
  },
  "language_info": {
   "codemirror_mode": {
    "name": "ipython",
    "version": 3
   },
   "file_extension": ".py",
   "mimetype": "text/x-python",
   "name": "python",
   "nbconvert_exporter": "python",
   "pygments_lexer": "ipython3",
   "version": "3.12.7"
  }
 },
 "nbformat": 4,
 "nbformat_minor": 5
}
