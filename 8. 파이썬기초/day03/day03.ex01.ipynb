{
 "cells": [
  {
   "cell_type": "code",
   "execution_count": 1,
   "id": "6e5518d6-4a89-46df-b4bc-fcea6d51df81",
   "metadata": {},
   "outputs": [
    {
     "name": "stdout",
     "output_type": "stream",
     "text": [
      "중딩\n"
     ]
    }
   ],
   "source": [
    "age =16\n",
    "if age < 6:\n",
    "    print(\"유딩\")\n",
    "elif age < 14:\n",
    "    print(\"초딩\")\n",
    "elif age < 17:\n",
    "    print(\"중딩\")\n",
    "elif age < 20:\n",
    "    print(\"고딩\")\n",
    "else:\n",
    "    print(\"성인\")"
   ]
  },
  {
   "cell_type": "code",
   "execution_count": 2,
   "id": "089a65c1-3884-491c-b320-f7f59d4befe3",
   "metadata": {},
   "outputs": [
    {
     "name": "stdout",
     "output_type": "stream",
     "text": [
      "있음\n"
     ]
    }
   ],
   "source": [
    "fruits = ['사과','오렌지','멜론']\n",
    "\n",
    "if '사과' in fruits: # 사과가 포함 되어 있는지 여부\n",
    "    print('있음')\n",
    "else:\n",
    "    print('없음')"
   ]
  },
  {
   "cell_type": "code",
   "execution_count": 3,
   "id": "2096cf3e-adb6-490c-b0f5-18692c415a3a",
   "metadata": {},
   "outputs": [
    {
     "name": "stdout",
     "output_type": "stream",
     "text": [
      "없음\n"
     ]
    }
   ],
   "source": [
    "fruits = ['사과','오렌지','멜론']\n",
    "\n",
    "if '망고' not in fruits: # 사과가 포함 되어 있는지 여부\n",
    "    print('없음')\n",
    "else:\n",
    "    print('있음')"
   ]
  },
  {
   "cell_type": "code",
   "execution_count": 4,
   "id": "f0a1678c-758e-49dd-a22d-f4d3dbdd6b6f",
   "metadata": {},
   "outputs": [],
   "source": [
    "num = 10\n",
    "if num > 5 and num < 20: pass"
   ]
  },
  {
   "cell_type": "code",
   "execution_count": 5,
   "id": "444f5ef2-5dfd-47db-871e-601ae108885e",
   "metadata": {},
   "outputs": [],
   "source": [
    "score = 60\n",
    "result = '합격' if score >= 60 else '불합격' # 조건부 표현식"
   ]
  },
  {
   "cell_type": "code",
   "execution_count": null,
   "id": "83c1a987-e32f-40e9-aec3-453043e8225a",
   "metadata": {},
   "outputs": [],
   "source": [
    "total = 0\n",
    "while True: # 무한 루프\n",
    "    num = input(\"정수 입력:\")\n",
    "    try:\n",
    "        total += int(num)  # 문자열 숫자 -> 정수 숫자\n",
    "        print(\"합계:\", total)\n",
    "    except:\n",
    "        print(\"정수 형식만 입력하세요.\")\n",
    "   "
   ]
  },
  {
   "cell_type": "code",
   "execution_count": 9,
   "id": "f80e3b0c-043f-4d4f-b9ce-edbdb4b6ca23",
   "metadata": {},
   "outputs": [
    {
     "name": "stdout",
     "output_type": "stream",
     "text": [
      "합계: 625\n"
     ]
    }
   ],
   "source": [
    "total = 0\n",
    "num = 1\n",
    "\n",
    "while num <= 100:\n",
    "    if num == 50:\n",
    "        break  # 반복 멈추기 \n",
    "        \n",
    "    if num % 2 == 0:\n",
    "        num += 1\n",
    "        continue  # 현재 반복을 중단하고 새로 반복 시작(반복 건너뛰기)\n",
    "        \n",
    "    total += num\n",
    "    #num++ // 파이썬은 증가 감소 연산자 사용 불가!\n",
    "    #++num\n",
    "    num += 1\n",
    "\n",
    "print(\"합계:\", total)"
   ]
  },
  {
   "cell_type": "code",
   "execution_count": 10,
   "id": "29204882-d39d-4c51-a395-d013c6902573",
   "metadata": {},
   "outputs": [
    {
     "name": "stdout",
     "output_type": "stream",
     "text": [
      "사과 apple\n",
      "오렌지 orange\n",
      "멜론 melon\n",
      "망고 mango\n"
     ]
    }
   ],
   "source": [
    "fruits = [(\"사과\", \"apple\"), (\"오렌지\", \"orange\"), (\"멜론\", \"melon\"), (\"망고\", \"mango\")]\n",
    "for title, item in fruits:\n",
    "    print(title, item)\n",
    "    \n",
    "# for (title, item) in fruits:\n",
    "#    print(title, item)\n",
    "    \n",
    "#for item in fruits:\n",
    "#    print(item)"
   ]
  },
  {
   "cell_type": "code",
   "execution_count": 11,
   "id": "d82eaf72-d726-4d09-a671-75254e7bcfe5",
   "metadata": {},
   "outputs": [
    {
     "name": "stdout",
     "output_type": "stream",
     "text": [
      "A\n",
      "B\n",
      "C\n"
     ]
    }
   ],
   "source": [
    "for item in \"ABC\":\n",
    "    print(item)"
   ]
  },
  {
   "cell_type": "code",
   "execution_count": 12,
   "id": "625a3765-c600-47c1-9760-cf46fbaccce0",
   "metadata": {},
   "outputs": [
    {
     "name": "stdout",
     "output_type": "stream",
     "text": [
      "1 반복\n",
      "3 반복\n",
      "5 반복\n",
      "7 반복\n",
      "9 반복\n"
     ]
    }
   ],
   "source": [
    "# for i in range(10): # 0~9\n",
    "#    print(i, \"반복\")\n",
    "\n",
    "# for i in range(1, 11): # 1 ~ 10\n",
    "#    print(i, \"반복\")\n",
    "\n",
    "for i in range(1, 11, 2): # 1, 3, 5, 7, 9  \n",
    "    print(i, \"반복\")"
   ]
  },
  {
   "cell_type": "code",
   "execution_count": 13,
   "id": "037499ec-8d98-4bb4-a2c6-76fc111b0652",
   "metadata": {},
   "outputs": [
    {
     "name": "stdout",
     "output_type": "stream",
     "text": [
      "----- 2단 ------\n",
      "2 X 1 = 2\n",
      "2 X 2 = 4\n",
      "2 X 3 = 6\n",
      "2 X 4 = 8\n",
      "2 X 5 = 10\n",
      "2 X 6 = 12\n",
      "2 X 7 = 14\n",
      "2 X 8 = 16\n",
      "2 X 9 = 18\n",
      "----- 3단 ------\n",
      "3 X 1 = 3\n",
      "3 X 2 = 6\n",
      "3 X 3 = 9\n",
      "3 X 4 = 12\n",
      "3 X 5 = 15\n",
      "3 X 6 = 18\n",
      "3 X 7 = 21\n",
      "3 X 8 = 24\n",
      "3 X 9 = 27\n",
      "----- 4단 ------\n",
      "4 X 1 = 4\n",
      "4 X 2 = 8\n",
      "4 X 3 = 12\n",
      "4 X 4 = 16\n",
      "4 X 5 = 20\n",
      "4 X 6 = 24\n",
      "4 X 7 = 28\n",
      "4 X 8 = 32\n",
      "4 X 9 = 36\n",
      "----- 5단 ------\n",
      "5 X 1 = 5\n",
      "5 X 2 = 10\n",
      "5 X 3 = 15\n",
      "5 X 4 = 20\n",
      "5 X 5 = 25\n",
      "5 X 6 = 30\n",
      "5 X 7 = 35\n",
      "5 X 8 = 40\n",
      "5 X 9 = 45\n",
      "----- 6단 ------\n",
      "6 X 1 = 6\n",
      "6 X 2 = 12\n",
      "6 X 3 = 18\n",
      "6 X 4 = 24\n",
      "6 X 5 = 30\n",
      "6 X 6 = 36\n",
      "6 X 7 = 42\n",
      "6 X 8 = 48\n",
      "6 X 9 = 54\n",
      "----- 7단 ------\n",
      "7 X 1 = 7\n",
      "7 X 2 = 14\n",
      "7 X 3 = 21\n",
      "7 X 4 = 28\n",
      "7 X 5 = 35\n",
      "7 X 6 = 42\n",
      "7 X 7 = 49\n",
      "7 X 8 = 56\n",
      "7 X 9 = 63\n",
      "----- 8단 ------\n",
      "8 X 1 = 8\n",
      "8 X 2 = 16\n",
      "8 X 3 = 24\n",
      "8 X 4 = 32\n",
      "8 X 5 = 40\n",
      "8 X 6 = 48\n",
      "8 X 7 = 56\n",
      "8 X 8 = 64\n",
      "8 X 9 = 72\n",
      "----- 9단 ------\n",
      "9 X 1 = 9\n",
      "9 X 2 = 18\n",
      "9 X 3 = 27\n",
      "9 X 4 = 36\n",
      "9 X 5 = 45\n",
      "9 X 6 = 54\n",
      "9 X 7 = 63\n",
      "9 X 8 = 72\n",
      "9 X 9 = 81\n"
     ]
    }
   ],
   "source": [
    "# 구구단 출력 - 중첩된 for문 예\n",
    "\n",
    "for i in range(2, 10): # 2~9\n",
    "    print(\"----- %d단 ------\" % i)\n",
    "    for j in range(1, 10): # 1 ~ 9\n",
    "        print(f\"{i} X {j} = {i * j}\")"
   ]
  },
  {
   "cell_type": "code",
   "execution_count": 14,
   "id": "fc37b1c7-298f-4c7e-810a-27926f5e5116",
   "metadata": {},
   "outputs": [
    {
     "name": "stdout",
     "output_type": "stream",
     "text": [
      "[484, 361, 4, 25, 5929, 7396, 625]\n"
     ]
    }
   ],
   "source": [
    "nums = [22, 19, 2, 5, 77, 86, 25]\n",
    "result = []\n",
    "for i in nums:\n",
    "    result.append(i * i)\n",
    "\n",
    "print(result)"
   ]
  },
  {
   "cell_type": "code",
   "execution_count": null,
   "id": "3ac849d5-7bcf-48f9-8cf1-3314b1f7a2f2",
   "metadata": {},
   "outputs": [],
   "source": [
    "nums = [22, 19, 2, 5, 77, 86, 25]\n",
    "# result = [ i * i for i in nums]   # 리스트 컴프리헨션 문법!\n",
    "result = [i * i for i in nums if i % 2 == 0] # 짝수만 제곱\n",
    "print(result)"
   ]
  },
  {
   "cell_type": "code",
   "execution_count": 15,
   "id": "64ee9518-a526-48a4-83d7-3557862c9f95",
   "metadata": {},
   "outputs": [
    {
     "name": "stdout",
     "output_type": "stream",
     "text": [
      "[22, 66, 110, 154, 198, 44, 132, 220, 308, 396, 66, 198, 330, 462, 594, 88, 264, 440, 616, 792, 110, 330, 550, 770, 990]\n"
     ]
    }
   ],
   "source": [
    "nums1 = [1, 2, 3, 4, 5, 6, 7, 8, 9, 10]\n",
    "nums2 = [11, 22, 33, 44, 55, 66, 77, 88, 99, 100]\n",
    "\n",
    "# result = [i * j for i in nums1 \n",
    "#                for j in nums2]\n",
    "result = [i * j for i in nums1 if i % 2 == 0\n",
    "             for j in nums2 if j % 2 == 1]\n",
    "print(result)"
   ]
  },
  {
   "cell_type": "code",
   "execution_count": null,
   "id": "bae8b884-e650-46e8-a56c-e1ebe49ce82c",
   "metadata": {},
   "outputs": [],
   "source": []
  }
 ],
 "metadata": {
  "kernelspec": {
   "display_name": "Python 3 (ipykernel)",
   "language": "python",
   "name": "python3"
  },
  "language_info": {
   "codemirror_mode": {
    "name": "ipython",
    "version": 3
   },
   "file_extension": ".py",
   "mimetype": "text/x-python",
   "name": "python",
   "nbconvert_exporter": "python",
   "pygments_lexer": "ipython3",
   "version": "3.12.7"
  }
 },
 "nbformat": 4,
 "nbformat_minor": 5
}
