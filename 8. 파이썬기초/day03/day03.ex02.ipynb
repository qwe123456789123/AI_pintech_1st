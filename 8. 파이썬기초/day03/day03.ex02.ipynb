{
 "cells": [
  {
   "cell_type": "code",
   "execution_count": 1,
   "id": "111f0c36-7e52-4cd4-9b58-d609ff3b60cf",
   "metadata": {},
   "outputs": [],
   "source": [
    "def add(a, b):\n",
    "    return a + b"
   ]
  },
  {
   "cell_type": "code",
   "execution_count": null,
   "id": "7a5be863-86a1-4a63-870f-58febedfe20c",
   "metadata": {},
   "outputs": [],
   "source": [
    "add(10, 20)"
   ]
  },
  {
   "cell_type": "code",
   "execution_count": 2,
   "id": "5f363518-8d3e-4dbf-9cee-a1436a7fc648",
   "metadata": {},
   "outputs": [],
   "source": [
    "def sub(a,b):\n",
    "    pass"
   ]
  },
  {
   "cell_type": "code",
   "execution_count": null,
   "id": "e5462c90-3e9d-4b7b-b657-aaf107e9c3a2",
   "metadata": {},
   "outputs": [],
   "source": [
    "def calc(a, b):\n",
    "    return a + b, a - b, a * b, a / b  # 반환값 4개가 아니라! 튜플 1개"
   ]
  },
  {
   "cell_type": "code",
   "execution_count": null,
   "id": "96c79c2d-0a4f-4240-9438-6ee3be843c3a",
   "metadata": {},
   "outputs": [],
   "source": [
    "result = calc(10, 5)\n",
    "print(result)\n",
    "type(result)"
   ]
  },
  {
   "cell_type": "code",
   "execution_count": null,
   "id": "8f963ae2-4e28-4883-a035-95d694433346",
   "metadata": {},
   "outputs": [],
   "source": [
    "r1, r2, r3, r4 = calc(10, 5)\n",
    "print(r1, r2, r3, r4)"
   ]
  },
  {
   "cell_type": "code",
   "execution_count": 3,
   "id": "64b10ac9-733e-4dcc-b991-c0c6e5baef82",
   "metadata": {},
   "outputs": [],
   "source": [
    "def sum(num, *params):\n",
    "    print(\"num:\", num, \"params:\", params)\n",
    "    total = 0\n",
    "    for i in params:\n",
    "        total += i\n",
    "        \n",
    "    return total"
   ]
  },
  {
   "cell_type": "code",
   "execution_count": 4,
   "id": "a3aebc9c-4f3c-41ce-83fb-f413a82ac84e",
   "metadata": {},
   "outputs": [
    {
     "name": "stdout",
     "output_type": "stream",
     "text": [
      "num: 10 params: (20, 30, 40, 50)\n"
     ]
    },
    {
     "data": {
      "text/plain": [
       "140"
      ]
     },
     "execution_count": 4,
     "metadata": {},
     "output_type": "execute_result"
    }
   ],
   "source": [
    "sum(10, 20, 30, 40, 50)"
   ]
  },
  {
   "cell_type": "code",
   "execution_count": 5,
   "id": "3b9fbb4c-5a52-45c8-9070-cbedd514d6d0",
   "metadata": {},
   "outputs": [],
   "source": [
    "def add(a, b):\n",
    "    return a + b"
   ]
  },
  {
   "cell_type": "code",
   "execution_count": 6,
   "id": "a2956823-d02e-4666-bc8a-dc884cf93466",
   "metadata": {},
   "outputs": [
    {
     "data": {
      "text/plain": [
       "30"
      ]
     },
     "execution_count": 6,
     "metadata": {},
     "output_type": "execute_result"
    }
   ],
   "source": [
    "add(10, 20)  # a = 10, b = 20"
   ]
  },
  {
   "cell_type": "code",
   "execution_count": 7,
   "id": "beba8013-abc7-4bb5-ab92-f48e576741ad",
   "metadata": {},
   "outputs": [
    {
     "data": {
      "text/plain": [
       "30"
      ]
     },
     "execution_count": 7,
     "metadata": {},
     "output_type": "execute_result"
    }
   ],
   "source": [
    "add(b = 20, a = 10)"
   ]
  },
  {
   "cell_type": "code",
   "execution_count": null,
   "id": "de689b57-533d-4e61-a1db-d7f79751ca3c",
   "metadata": {},
   "outputs": [],
   "source": [
    "def words(**params):\n",
    "    print(params)"
   ]
  },
  {
   "cell_type": "code",
   "execution_count": null,
   "id": "9adfddd1-7317-401c-9037-cded366b484e",
   "metadata": {},
   "outputs": [],
   "source": [
    "words(name=\"이이름\", age=40, address=\"주소\")"
   ]
  },
  {
   "cell_type": "code",
   "execution_count": 8,
   "id": "23ecc967-0430-4f5d-b6dc-711d8c266139",
   "metadata": {},
   "outputs": [],
   "source": [
    "def get_number(num):\n",
    "    if num % 10 == 0:\n",
    "        print(\"종료!\")\n",
    "        return  # 함수의 종료, 이 후 코드는 실행 X\n",
    "\n",
    "    print(num)"
   ]
  },
  {
   "cell_type": "code",
   "execution_count": 9,
   "id": "43266666-be54-43d1-8b80-4fbca08af6d3",
   "metadata": {},
   "outputs": [
    {
     "name": "stdout",
     "output_type": "stream",
     "text": [
      "11\n"
     ]
    }
   ],
   "source": [
    "get_number(11)"
   ]
  },
  {
   "cell_type": "code",
   "execution_count": 10,
   "id": "1a32ad79-350a-4b40-a82d-d812bad22f6d",
   "metadata": {},
   "outputs": [],
   "source": [
    "def sum(a, b, c = 100):  # 기본값은 항상 마지막 매개변수 부터 차례대로 설정!\n",
    "    return a + b + c"
   ]
  },
  {
   "cell_type": "code",
   "execution_count": 11,
   "id": "3cefe459-53e0-41ff-bb3f-cb29da260e64",
   "metadata": {},
   "outputs": [
    {
     "data": {
      "text/plain": [
       "130"
      ]
     },
     "execution_count": 11,
     "metadata": {},
     "output_type": "execute_result"
    }
   ],
   "source": [
    "sum(10, 20)"
   ]
  },
  {
   "cell_type": "code",
   "execution_count": 37,
   "id": "6c9a16bf-9094-475e-91f6-04fcd42b9918",
   "metadata": {},
   "outputs": [],
   "source": [
    "def sum2(a, b = 100, c = 10):\n",
    "    return a + b + c"
   ]
  },
  {
   "cell_type": "code",
   "execution_count": 34,
   "id": "a70b3dc2-0a0c-4ea6-bb81-37fd5f72ec17",
   "metadata": {},
   "outputs": [],
   "source": [
    "name = \"휴먼\"\n",
    "\n",
    "def message(msg):\n",
    "    global name  # 전역변수 name을 message 함수 지역내에서 사용하겠다!\n",
    "    \n",
    "    print(f\"{name} {msg}\")"
   ]
  },
  {
   "cell_type": "code",
   "execution_count": 35,
   "id": "26c5129c-ee76-413b-9b03-e25f583a8165",
   "metadata": {},
   "outputs": [
    {
     "name": "stdout",
     "output_type": "stream",
     "text": [
      "휴먼 반갑고\n"
     ]
    }
   ],
   "source": [
    "message(\"반갑고\")"
   ]
  },
  {
   "cell_type": "code",
   "execution_count": 21,
   "id": "518fbe03-8e33-48d6-b221-c779aa109298",
   "metadata": {},
   "outputs": [
    {
     "name": "stdout",
     "output_type": "stream",
     "text": [
      "[2, 4, 6, 8, 10]\n"
     ]
    }
   ],
   "source": [
    "nums = [1,2,3,4,5,6,7,8,9,10]\n",
    "is_even = lambda x : x %2 == 0 # 짝수 판별 함수\n",
    "\n",
    "even = filter(is_even, nums)\n",
    "even_nums = list(even)\n",
    "print(even_nums)"
   ]
  },
  {
   "cell_type": "code",
   "execution_count": 25,
   "id": "ba716c34-9a5e-4038-8c9c-b7028caf0bbe",
   "metadata": {},
   "outputs": [
    {
     "name": "stdout",
     "output_type": "stream",
     "text": [
      "[2, 4, 6, 8, 10]\n"
     ]
    }
   ],
   "source": [
    "nums = [1,2,3,4,5,6,7,8,9,10]\n",
    "even = list(filter(lambda x: x % 2 == 0, nums))\n",
    "print(even)"
   ]
  },
  {
   "cell_type": "code",
   "execution_count": 26,
   "id": "b95defea-d88e-4b47-8e7f-fcbe152f7134",
   "metadata": {},
   "outputs": [
    {
     "name": "stdout",
     "output_type": "stream",
     "text": [
      "ABCDEFGHI\n"
     ]
    }
   ],
   "source": [
    "print('ABC'+'DEF'+'GHI') # 문자열 결합 + 연산자, 문자열끼리만 가능"
   ]
  },
  {
   "cell_type": "code",
   "execution_count": 27,
   "id": "cce11b5d-0376-491b-831c-e546029822dd",
   "metadata": {},
   "outputs": [
    {
     "name": "stdout",
     "output_type": "stream",
     "text": [
      "ABCDEFGHI\n"
     ]
    }
   ],
   "source": [
    "print('ABC''DEF''GHI') # 콤마 없이 문자열 결합 가능"
   ]
  },
  {
   "cell_type": "code",
   "execution_count": 28,
   "id": "b335dccf-754a-4cd8-8e29-20ea8464b131",
   "metadata": {},
   "outputs": [
    {
     "name": "stdout",
     "output_type": "stream",
     "text": [
      "ABC DEF GHI\n"
     ]
    }
   ],
   "source": [
    "print('ABC','DEF','GHI') # 문자열을 공백으로 띄어서 결합"
   ]
  },
  {
   "cell_type": "code",
   "execution_count": 29,
   "id": "2a95428e-6328-4e69-9966-44f48cab79a7",
   "metadata": {},
   "outputs": [
    {
     "name": "stdout",
     "output_type": "stream",
     "text": [
      "abc\n",
      "def\n",
      "ghi\n"
     ]
    }
   ],
   "source": [
    "print('abc')\n",
    "print('def')\n",
    "print('ghi')"
   ]
  },
  {
   "cell_type": "code",
   "execution_count": 30,
   "id": "c6e4d98e-2ae9-4351-87cc-2af5d95021b3",
   "metadata": {},
   "outputs": [
    {
     "name": "stdout",
     "output_type": "stream",
     "text": [
      "abc#def#ghi\n"
     ]
    }
   ],
   "source": [
    "print('abc', end='#')\n",
    "print('def',end='#')\n",
    "print('ghi')"
   ]
  }
 ],
 "metadata": {
  "kernelspec": {
   "display_name": "Python 3 (ipykernel)",
   "language": "python",
   "name": "python3"
  },
  "language_info": {
   "codemirror_mode": {
    "name": "ipython",
    "version": 3
   },
   "file_extension": ".py",
   "mimetype": "text/x-python",
   "name": "python",
   "nbconvert_exporter": "python",
   "pygments_lexer": "ipython3",
   "version": "3.12.7"
  }
 },
 "nbformat": 4,
 "nbformat_minor": 5
}
