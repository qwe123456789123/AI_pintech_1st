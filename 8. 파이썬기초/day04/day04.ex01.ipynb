{
 "cells": [
  {
   "cell_type": "code",
   "execution_count": 1,
   "id": "428d543f-58e0-4b56-9575-f583dfc37bc7",
   "metadata": {},
   "outputs": [],
   "source": [
    "f = open('D:data.txt','w') # - 쓰기, 지정된 경로에 파일이 없는 경우 새파일 생성\n",
    "for i in range(1,11):\n",
    "    f.write('%d번 라인\\n' % i )\n",
    "# f.close # 파일 닫기"
   ]
  },
  {
   "cell_type": "code",
   "execution_count": 4,
   "id": "39de62fe-c335-4e16-b26f-f3e8481868d3",
   "metadata": {},
   "outputs": [
    {
     "name": "stdout",
     "output_type": "stream",
     "text": [
      "1번 라인\n",
      "2번 라인\n",
      "3번 라인\n",
      "4번 라인\n",
      "5번 라인\n",
      "6번 라인\n",
      "7번 라인\n",
      "8번 라인\n",
      "9번 라인\n",
      "10번 라인\n",
      "\n"
     ]
    }
   ],
   "source": [
    "# 파일 읽기\n",
    "f = open(\"D:data.txt\",\"r\")\n",
    "data = f.read()\n",
    "print(data)\n",
    "# f.close"
   ]
  },
  {
   "cell_type": "code",
   "execution_count": 5,
   "id": "c082172f-e2e5-4ece-98c4-88885f4dbe98",
   "metadata": {},
   "outputs": [
    {
     "name": "stdout",
     "output_type": "stream",
     "text": [
      "1번 라인\n",
      "2번 라인\n",
      "3번 라인\n",
      "4번 라인\n",
      "5번 라인\n",
      "6번 라인\n",
      "7번 라인\n",
      "8번 라인\n",
      "9번 라인\n",
      "10번 라인\n"
     ]
    }
   ],
   "source": [
    "# 한줄 읽기\n",
    "f = open(\"D:data.txt\",\"r\")\n",
    "while True:\n",
    "    line = f.readline()\n",
    "    if not line: break\n",
    "    print(line, end='')\n",
    "f.close()"
   ]
  },
  {
   "cell_type": "code",
   "execution_count": 10,
   "id": "81cbfb68-f400-4cd4-b960-7539245e2cfd",
   "metadata": {},
   "outputs": [
    {
     "name": "stdout",
     "output_type": "stream",
     "text": [
      "1번 라인\n",
      "2번 라인\n",
      "3번 라인\n",
      "4번 라인\n",
      "5번 라인\n",
      "6번 라인\n",
      "7번 라인\n",
      "8번 라인\n",
      "9번 라인\n",
      "10번 라인\n"
     ]
    }
   ],
   "source": [
    "f = open(\"D:data.txt\",\"r\")\n",
    "lines = f.readlines()\n",
    "for line in lines:\n",
    "    print(line, end='')\n",
    "f.close()"
   ]
  },
  {
   "cell_type": "code",
   "execution_count": 13,
   "id": "78ddf410-c495-43f5-86ee-a2a7a84f0b2e",
   "metadata": {},
   "outputs": [
    {
     "name": "stdout",
     "output_type": "stream",
     "text": [
      "1번 라인\n",
      "2번 라인\n",
      "3번 라인\n",
      "4번 라인\n",
      "5번 라인\n",
      "6번 라인\n",
      "7번 라인\n",
      "8번 라인\n",
      "9번 라인\n",
      "10번 라인\n"
     ]
    }
   ],
   "source": [
    "f = open(\"D:data.txt\",\"r\")\n",
    "for line in f:\n",
    "    print(line, end='')\n",
    "f.close()"
   ]
  },
  {
   "cell_type": "code",
   "execution_count": 18,
   "id": "2b9e8693-b451-47dc-baaf-23f885509f73",
   "metadata": {},
   "outputs": [],
   "source": [
    "f = open(\"D:/log.txt\",\"a\") # a : qppend - 텍스트가 께속 끝에 추가\n",
    "f.write('로그3\\n')\n",
    "f.write('로그4\\n')\n",
    "f.close()"
   ]
  },
  {
   "cell_type": "code",
   "execution_count": 19,
   "id": "a7c69980-9513-4ebc-9d91-96ee1da4ac11",
   "metadata": {},
   "outputs": [],
   "source": [
    "# 자원 해제 자동화 - with 구문\n",
    "with open('D:/data2.txt','w') as f:\n",
    "    f.write('테스트')"
   ]
  }
 ],
 "metadata": {
  "kernelspec": {
   "display_name": "Python 3 (ipykernel)",
   "language": "python",
   "name": "python3"
  },
  "language_info": {
   "codemirror_mode": {
    "name": "ipython",
    "version": 3
   },
   "file_extension": ".py",
   "mimetype": "text/x-python",
   "name": "python",
   "nbconvert_exporter": "python",
   "pygments_lexer": "ipython3",
   "version": "3.12.7"
  }
 },
 "nbformat": 4,
 "nbformat_minor": 5
}
