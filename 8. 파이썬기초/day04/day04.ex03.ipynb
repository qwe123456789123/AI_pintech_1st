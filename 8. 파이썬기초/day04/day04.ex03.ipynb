{
 "cells": [
  {
   "cell_type": "code",
   "execution_count": 15,
   "id": "067df3c6-a742-42db-806b-aca54e64ff7d",
   "metadata": {},
   "outputs": [],
   "source": [
    "class Calculator:\n",
    "    # Calculator() 호출시 가장 먼저 호출 되는 메서드\n",
    "    # 객체 변수(인스턴스 변수) 초기화 작업을 주로 담당\n",
    "    def __init__(self, a, b):\n",
    "        self.a = a\n",
    "        self.b = b\n",
    "    # self: 객체 자원 중 객체 변수(인스턴스 변수)를 접근하기 위한 수단\n",
    "    def add(self):\n",
    "        return self.a + self.b  # self를 올바르게 입력\n",
    "\n",
    "    def sub(self):\n",
    "        return self.a - self.b\n",
    "\n",
    "    def mul(self):\n",
    "        return self.a * self.b\n",
    "\n",
    "    def div(self):\n",
    "        return self.a / self.b"
   ]
  },
  {
   "cell_type": "code",
   "execution_count": 16,
   "id": "94a2a204-0441-4972-b3a4-aaec63cb8d6d",
   "metadata": {},
   "outputs": [],
   "source": [
    "# cal = Calculator()\n",
    "cal = Calculator(10,20)"
   ]
  },
  {
   "cell_type": "code",
   "execution_count": 19,
   "id": "736f90d6-9fc0-40f7-a814-30cf7f3d9871",
   "metadata": {},
   "outputs": [
    {
     "data": {
      "text/plain": [
       "200"
      ]
     },
     "execution_count": 19,
     "metadata": {},
     "output_type": "execute_result"
    }
   ],
   "source": [
    "# cal.a = 10  # 객체 변수 (인스턴스 변수)\n",
    "# cal.b = 20\n",
    "# Calculator.add(cal)\n",
    "cal.add()\n",
    "cal.mul()"
   ]
  },
  {
   "cell_type": "code",
   "execution_count": 24,
   "id": "878a698b-3235-4112-a92a-78a71cf4ea5f",
   "metadata": {},
   "outputs": [],
   "source": [
    "class ProCalculator(Calculator): # 상속, ProCalculator - 자식, Calculator - 부모\n",
    "    def div(self): # Calculator에 정의된 div를 재정의, 메서드 재정의\n",
    "        if self.b == 0:\n",
    "            return 0\n",
    "        return Calculator.div(self)\n",
    "       # return self.a / self.b\n",
    "    def square(self, x):\n",
    "        return x**2"
   ]
  },
  {
   "cell_type": "code",
   "execution_count": 27,
   "id": "a7f537b5-3053-4951-ad1f-7b74e794b13c",
   "metadata": {},
   "outputs": [
    {
     "data": {
      "text/plain": [
       "0"
      ]
     },
     "execution_count": 27,
     "metadata": {},
     "output_type": "execute_result"
    }
   ],
   "source": [
    "cal2 = ProCalculator(10,0)\n",
    "cal2.div()"
   ]
  },
  {
   "cell_type": "code",
   "execution_count": 36,
   "id": "93f6771d-21af-456b-82ef-169a66920824",
   "metadata": {},
   "outputs": [],
   "source": [
    "class Student:\n",
    "    def __init__(self, id, name, major):\n",
    "        self.id = id\n",
    "        self.name = name\n",
    "        self.major = major\n",
    "\n",
    "    '''\n",
    "        자바의 toString() 메서드와 유사\n",
    "    '''\n",
    "    def __str__(self):\n",
    "        return f'id={self.id}, name={self.name}, major={self.major}'"
   ]
  },
  {
   "cell_type": "code",
   "execution_count": 40,
   "id": "73065b70-5491-4bc5-8d41-5a78939887ec",
   "metadata": {},
   "outputs": [
    {
     "name": "stdout",
     "output_type": "stream",
     "text": [
      "id=100, name=오크, major=그런트\n"
     ]
    }
   ],
   "source": [
    "s1 = Student(100,'오크','그런트')\n",
    "print(s1)  # def __str__(self):"
   ]
  },
  {
   "cell_type": "code",
   "execution_count": 43,
   "id": "1d16e3f5-23fc-4ad8-9fe5-0538287c7fcf",
   "metadata": {},
   "outputs": [],
   "source": [
    "class Multiply:\n",
    "    def __init__(self, num):\n",
    "        self.num = num\n",
    "\n",
    "    # 객체의 참조 변수를 함수 처럼 호출 했을때 실행\n",
    "    def __call__(self, num):\n",
    "        return self.num * num\n",
    "\n",
    "    def __str__(self):\n",
    "        return str(self.num)"
   ]
  },
  {
   "cell_type": "code",
   "execution_count": 46,
   "id": "b2d309d7-cd2b-4be0-bfa0-3729ccb3a8aa",
   "metadata": {},
   "outputs": [
    {
     "name": "stdout",
     "output_type": "stream",
     "text": [
      "200\n",
      "10\n"
     ]
    }
   ],
   "source": [
    "mul = Multiply(10) # __init__(self, num) 호출\n",
    "result = mul(20) # __call__(self, num) 호출\n",
    "print(result)\n",
    "print(mul)"
   ]
  },
  {
   "cell_type": "code",
   "execution_count": 56,
   "id": "74cb68f8-334c-4ccb-8af0-35a2304194af",
   "metadata": {},
   "outputs": [],
   "source": [
    "class Family:\n",
    "    lastname='휴'"
   ]
  },
  {
   "cell_type": "code",
   "execution_count": 52,
   "id": "0d0ecb1a-c381-4d9e-a5b3-95ed08ba75ad",
   "metadata": {},
   "outputs": [],
   "source": [
    "# Family.lastname = '휴' # 클래스 변수, 정적 변수, 다른 객체가 공유할 목적의 변수"
   ]
  },
  {
   "cell_type": "code",
   "execution_count": 55,
   "id": "e9a4909d-78c9-432a-a4fb-2126b095ba4b",
   "metadata": {},
   "outputs": [
    {
     "name": "stdout",
     "output_type": "stream",
     "text": [
      "f1: 오\n",
      "f2: 휴\n"
     ]
    }
   ],
   "source": [
    "f1 = Family()\n",
    "f2 = Family()\n",
    "f1.lastname='오'\n",
    "print(\"f1: %s\" % f1.lastname)\n",
    "print(\"f2: %s\" % f2.lastname)"
   ]
  },
  {
   "cell_type": "code",
   "execution_count": 58,
   "id": "ac9ea248-93b8-4746-a857-40d4478f7d84",
   "metadata": {},
   "outputs": [],
   "source": [
    "class Bird:\n",
    "    def fly(self):\n",
    "        raise NotImplementedError"
   ]
  },
  {
   "cell_type": "code",
   "execution_count": 67,
   "id": "e3dc6bec-17db-4a5b-8d6e-601831da8f3b",
   "metadata": {},
   "outputs": [],
   "source": [
    "class dove(Bird):\n",
    "    def fly(self): # 메서드 재정의\n",
    "        print('비둘기는 그 누구보다 빠르게 먹는다. 구구구구구구구 마이쩡')"
   ]
  },
  {
   "cell_type": "code",
   "execution_count": 68,
   "id": "a31e74c6-e0ba-4735-b4e7-e4d24ff101e8",
   "metadata": {},
   "outputs": [
    {
     "name": "stdout",
     "output_type": "stream",
     "text": [
      "비둘기는 그 누구보다 빠르게 먹는다. 구구구구구구구 마이쩡\n"
     ]
    }
   ],
   "source": [
    "e1 = dove()\n",
    "e1.fly()"
   ]
  }
 ],
 "metadata": {
  "kernelspec": {
   "display_name": "Python 3 (ipykernel)",
   "language": "python",
   "name": "python3"
  },
  "language_info": {
   "codemirror_mode": {
    "name": "ipython",
    "version": 3
   },
   "file_extension": ".py",
   "mimetype": "text/x-python",
   "name": "python",
   "nbconvert_exporter": "python",
   "pygments_lexer": "ipython3",
   "version": "3.12.7"
  }
 },
 "nbformat": 4,
 "nbformat_minor": 5
}
