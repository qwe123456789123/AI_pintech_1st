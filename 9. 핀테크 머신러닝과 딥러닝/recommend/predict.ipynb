{
 "cells": [
  {
   "cell_type": "code",
   "execution_count": 1,
   "id": "9e536b4e-8004-455f-8c33-f9e18a92c390",
   "metadata": {},
   "outputs": [],
   "source": [
    "from tensorflow import keras\n",
    "import os.path\n",
    "import sys"
   ]
  },
  {
   "cell_type": "code",
   "execution_count": 3,
   "id": "e688f0ec-c968-4ec3-b801-351359b57830",
   "metadata": {},
   "outputs": [
    {
     "ename": "SystemExit",
     "evalue": "1",
     "output_type": "error",
     "traceback": [
      "An exception has occurred, use %tb to see the full traceback.\n",
      "\u001b[1;31mSystemExit\u001b[0m\u001b[1;31m:\u001b[0m 1\n"
     ]
    },
    {
     "name": "stderr",
     "output_type": "stream",
     "text": [
      "C:\\Users\\admin\\Anaconda3\\Lib\\site-packages\\IPython\\core\\interactiveshell.py:3585: UserWarning: To exit: use 'exit', 'quit', or Ctrl-D.\n",
      "  warn(\"To exit: use 'exit', 'quit', or Ctrl-D.\", stacklevel=1)\n"
     ]
    }
   ],
   "source": [
    "if os.path.isfile(\"best-model.keras\"):\n",
    "    sys.exit(1)\n",
    "\n",
    "model = keras.model.load_model(\"best-model.keras\")"
   ]
  },
  {
   "cell_type": "code",
   "execution_count": null,
   "id": "88094436-2301-4a04-9492-09b9a70d0095",
   "metadata": {},
   "outputs": [],
   "source": [
    "#test_data =\"\"\"[[ 1.23151481,  0.88790998,  1.6140196,   0.94127238,  1.6784415,   1.38504672,\n",
    "#  -1.57161094, -0.65513703,  0.99961796, -0.80484811]]\"\"\"\n",
    "test_data= eval(sys.argv[1])\n",
    "test_data = eval(test_data)\n",
    "print(test_data)\n",
    "predictions =  model.predict([test_data])\n"
   ]
  }
 ],
 "metadata": {
  "kernelspec": {
   "display_name": "Python 3 (ipykernel)",
   "language": "python",
   "name": "python3"
  },
  "language_info": {
   "codemirror_mode": {
    "name": "ipython",
    "version": 3
   },
   "file_extension": ".py",
   "mimetype": "text/x-python",
   "name": "python",
   "nbconvert_exporter": "python",
   "pygments_lexer": "ipython3",
   "version": "3.12.7"
  }
 },
 "nbformat": 4,
 "nbformat_minor": 5
}
