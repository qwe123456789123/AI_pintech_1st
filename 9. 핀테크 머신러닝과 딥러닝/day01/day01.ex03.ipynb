{
 "cells": [
  {
   "cell_type": "code",
   "execution_count": 2,
   "id": "428aa6d1-8b86-4acc-93c9-a258cdffc3ca",
   "metadata": {},
   "outputs": [],
   "source": [
    "import numpy as np"
   ]
  },
  {
   "cell_type": "code",
   "execution_count": 5,
   "id": "13a7fcf2-8fbb-4ac3-8d36-26d011959f46",
   "metadata": {},
   "outputs": [
    {
     "name": "stdout",
     "output_type": "stream",
     "text": [
      "[10 20 30 40 50]\n"
     ]
    }
   ],
   "source": [
    "# 브로드 캐스팅\n",
    "nums = np.array([10,20,30,40,50])\n",
    "print(nums)"
   ]
  },
  {
   "cell_type": "code",
   "execution_count": 7,
   "id": "9bd15cd7-e77b-4f7e-81e8-5da21b250c45",
   "metadata": {},
   "outputs": [
    {
     "name": "stdout",
     "output_type": "stream",
     "text": [
      "[ 20  40  60  80 100]\n"
     ]
    }
   ],
   "source": [
    "nums2 = nums * 2\n",
    "print(nums2)"
   ]
  },
  {
   "cell_type": "code",
   "execution_count": 10,
   "id": "14564da4-fd4c-478f-bd99-b1f91815c2df",
   "metadata": {},
   "outputs": [
    {
     "name": "stdout",
     "output_type": "stream",
     "text": [
      "[ 5 15 25 35 45]\n"
     ]
    }
   ],
   "source": [
    "nums3 = nums - 5\n",
    "print(nums3)"
   ]
  },
  {
   "cell_type": "code",
   "execution_count": 12,
   "id": "198f7398-0755-426b-97c4-f5f1ce8ccec3",
   "metadata": {},
   "outputs": [
    {
     "name": "stdout",
     "output_type": "stream",
     "text": [
      "[[ 10   1 100]\n",
      " [ 20   2 200]\n",
      " [ 30   3 300]\n",
      " [ 40   4 400]]\n"
     ]
    }
   ],
   "source": [
    "data = np.column_stack(([10,20,30,40],[1,2,3,4],[100,200,300,400]))\n",
    "print(data)"
   ]
  }
 ],
 "metadata": {
  "kernelspec": {
   "display_name": "Python 3 (ipykernel)",
   "language": "python",
   "name": "python3"
  },
  "language_info": {
   "codemirror_mode": {
    "name": "ipython",
    "version": 3
   },
   "file_extension": ".py",
   "mimetype": "text/x-python",
   "name": "python",
   "nbconvert_exporter": "python",
   "pygments_lexer": "ipython3",
   "version": "3.12.7"
  }
 },
 "nbformat": 4,
 "nbformat_minor": 5
}
